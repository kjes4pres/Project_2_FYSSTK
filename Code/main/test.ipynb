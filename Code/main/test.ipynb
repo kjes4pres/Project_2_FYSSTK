{
 "cells": [
  {
   "cell_type": "code",
   "execution_count": null,
   "id": "e0181736",
   "metadata": {},
   "outputs": [],
   "source": [
    "import sys, os\n",
    "\n",
    "funcs = '/Users/kjesta/Desktop/Masteremner/FYS-STK4155/Project_2_FYSSTK/Code'\n",
    "sys.path.append(os.path.abspath(funcs))\n",
    "\n",
    "from functions import *\n",
    "\n",
    "%load_ext autoreload\n",
    "%autoreload 2 \"\"\""
   ]
  },
  {
   "cell_type": "code",
   "execution_count": 4,
   "id": "3175417a",
   "metadata": {},
   "outputs": [],
   "source": [
    "my_ffnn = NeuralNetwork(4, [4, 6], [sigmoid, ReLU], [sigmoid_der, ReLU_der], mse, mse_der)"
   ]
  },
  {
   "cell_type": "code",
   "execution_count": null,
   "id": "c06413f7",
   "metadata": {},
   "outputs": [],
   "source": []
  }
 ],
 "metadata": {
  "kernelspec": {
   "display_name": "exercises",
   "language": "python",
   "name": "python3"
  },
  "language_info": {
   "codemirror_mode": {
    "name": "ipython",
    "version": 3
   },
   "file_extension": ".py",
   "mimetype": "text/x-python",
   "name": "python",
   "nbconvert_exporter": "python",
   "pygments_lexer": "ipython3",
   "version": "3.13.5"
  }
 },
 "nbformat": 4,
 "nbformat_minor": 5
}
