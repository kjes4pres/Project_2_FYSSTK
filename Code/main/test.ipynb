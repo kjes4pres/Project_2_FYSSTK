{
 "cells": [
  {
   "cell_type": "code",
   "execution_count": null,
   "id": "e0181736",
   "metadata": {},
   "outputs": [
    {
     "name": "stdout",
     "output_type": "stream",
     "text": [
      "The autoreload extension is already loaded. To reload it, use:\n",
      "  %reload_ext autoreload\n"
     ]
    }
   ],
   "source": [
    "import sys, os\n",
    "from pathlib import Path\n",
    "import matplotlib.pyplot as plt\n",
    "from sklearn.preprocessing import PolynomialFeatures\n",
    "\n",
    "project_root = os.path.abspath(os.path.join(os.getcwd(), '..'))\n",
    "sys.path.append(project_root)\n",
    "\n",
    "from functions import *\n",
    "\n",
    "%load_ext autoreload\n",
    "%autoreload 2 \"\"\""
   ]
  },
  {
   "cell_type": "code",
   "execution_count": 4,
   "id": "3175417a",
   "metadata": {},
   "outputs": [],
   "source": [
    "my_ffnn = NeuralNetwork(4, [4, 6], [sigmoid, ReLU], [sigmoid_der, ReLU_der], mse, mse_der)"
   ]
  },
  {
   "cell_type": "code",
   "execution_count": null,
   "id": "4304c326",
   "metadata": {},
   "outputs": [
    {
     "ename": "TypeError",
     "evalue": "'list' object is not callable",
     "output_type": "error",
     "traceback": [
      "\u001b[31m---------------------------------------------------------------------------\u001b[39m",
      "\u001b[31mTypeError\u001b[39m                                 Traceback (most recent call last)",
      "\u001b[36mCell\u001b[39m\u001b[36m \u001b[39m\u001b[32mIn[191]\u001b[39m\u001b[32m, line 6\u001b[39m\n\u001b[32m      4\u001b[39m grads = Regression_FFNN.backpropagation_batch(X,y)\n\u001b[32m      5\u001b[39m Regression_FFNN.update_weights(grads, \u001b[32m0.1\u001b[39m)\n\u001b[32m----> \u001b[39m\u001b[32m6\u001b[39m \u001b[43mcost_hist\u001b[49m\u001b[43m(\u001b[49m\u001b[43mRegression_FFNN\u001b[49m\u001b[43m.\u001b[49m\u001b[43mcost\u001b[49m\u001b[43m(\u001b[49m\u001b[43mX\u001b[49m\u001b[43m,\u001b[49m\u001b[43my\u001b[49m\u001b[43m)\u001b[49m\u001b[43m)\u001b[49m\n",
      "\u001b[31mTypeError\u001b[39m: 'list' object is not callable"
     ]
    }
   ],
   "source": [
    "Regression_FFNN = NeuralNetwork(4, [8, 1], [sigmoid, sigmoid], [sigmoid_der, sigmoid_der], mse, mse_der)\n",
    "cost_hist = []\n",
    "for i in range(50):\n",
    "    grads = Regression_FFNN.backpropagation_batch(X,y)\n",
    "    Regression_FFNN.update_weights(grads, 0.1)\n",
    "    cost_hist.append(Regression_FFNN.cost(X,y))\n"
   ]
  },
  {
   "cell_type": "code",
   "execution_count": null,
   "id": "8c142276",
   "metadata": {},
   "outputs": [],
   "source": []
  }
 ],
 "metadata": {
  "kernelspec": {
   "display_name": "Python 3",
   "language": "python",
   "name": "python3"
  },
  "language_info": {
   "codemirror_mode": {
    "name": "ipython",
    "version": 3
   },
   "file_extension": ".py",
   "mimetype": "text/x-python",
   "name": "python",
   "nbconvert_exporter": "python",
   "pygments_lexer": "ipython3",
   "version": "3.13.5"
  }
 },
 "nbformat": 4,
 "nbformat_minor": 5
}
