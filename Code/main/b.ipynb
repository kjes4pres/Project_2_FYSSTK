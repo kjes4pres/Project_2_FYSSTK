{
 "cells": [
  {
   "cell_type": "code",
   "execution_count": 2,
   "id": "e0181736",
   "metadata": {},
   "outputs": [],
   "source": [
    "import sys, os\n",
    "from pathlib import Path\n",
    "import matplotlib.pyplot as plt\n",
    "from sklearn.preprocessing import PolynomialFeatures\n",
    "\n",
    "project_root = os.path.abspath(os.path.join(os.getcwd(), '..'))\n",
    "sys.path.append(project_root)\n",
    "\n",
    "from functions import *\n",
    "\n",
    "%load_ext autoreload\n",
    "%autoreload 2"
   ]
  },
  {
   "cell_type": "code",
   "execution_count": 3,
   "id": "dcd57b1e",
   "metadata": {},
   "outputs": [],
   "source": [
    "x = np.linspace(-1, 1, 100).reshape(-1, 1)\n",
    "y = 1/(1 + 25 * x**2) + 0.1 * np.random.normal(0, 1, x.shape)"
   ]
  },
  {
   "cell_type": "code",
   "execution_count": 4,
   "id": "b4ad81a8",
   "metadata": {},
   "outputs": [],
   "source": [
    "Regression_FFNN = NeuralNetwork(1, [8, 1], [sigmoid, identity], [derivate(sigmoid), derivate(identity)], mse, mse_der)"
   ]
  },
  {
   "cell_type": "code",
   "execution_count": null,
   "id": "90759e80",
   "metadata": {},
   "outputs": [],
   "source": []
  }
 ],
 "metadata": {
  "kernelspec": {
   "display_name": "exercises",
   "language": "python",
   "name": "python3"
  },
  "language_info": {
   "codemirror_mode": {
    "name": "ipython",
    "version": 3
   },
   "file_extension": ".py",
   "mimetype": "text/x-python",
   "name": "python",
   "nbconvert_exporter": "python",
   "pygments_lexer": "ipython3",
   "version": "3.13.5"
  }
 },
 "nbformat": 4,
 "nbformat_minor": 5
}
